{
 "cells": [
  {
   "cell_type": "markdown",
   "metadata": {},
   "source": [
    "# SLE\n",
    "\n",
    "Solves the Schrodinger-Langevin equation \n",
    "\n",
    "$$ i\\hbar \\partial_t \\psi(x,t) = \\left[\\hat{H} + \\hbar A\\left(S(x,t) - \\int\\mathrm{d}x'\\ |\\psi(x',t)|^2 S(x',t)\\right) - \\hat{F}_{\\text{R}}(t) x\\right] \\psi(x,t), $$\n",
    "\n",
    "with $ \\hat{H} = -(\\hbar^2/2m)\\partial_x^2 + m\\omega^2x^2/2 $. The term $ \\hat{F}_{\\text{R}} $ is treated as described in\n",
    "https://arxiv.org/abs/1504.08087 for the colored noise case.\n",
    "\n",
    "To test, run\n",
    "\n",
    "```bash\n",
    "python sle.py test\n",
    "```\n",
    "\n",
    "This will generate 10 trajectories with inverse temperature $\\beta = 1$ (in units of $k_B = 1$), damping coefficient $A = 0.1$, total time $T = 0.5$ ($m = \\omega = \\hbar = 1$). The particle and wave function trajectories are saved in the file test.hdf5, together with the relevant parameters."
   ]
  },
  {
   "cell_type": "code",
   "execution_count": null,
   "metadata": {},
   "outputs": [],
   "source": []
  }
 ],
 "metadata": {
  "kernelspec": {
   "display_name": "Python 3",
   "language": "python",
   "name": "python3"
  },
  "language_info": {
   "codemirror_mode": {
    "name": "ipython",
    "version": 3
   },
   "file_extension": ".py",
   "mimetype": "text/x-python",
   "name": "python",
   "nbconvert_exporter": "python",
   "pygments_lexer": "ipython3",
   "version": "3.6.2"
  },
  "varInspector": {
   "cols": {
    "lenName": 16,
    "lenType": 16,
    "lenVar": 40
   },
   "kernels_config": {
    "python": {
     "delete_cmd_postfix": "",
     "delete_cmd_prefix": "del ",
     "library": "var_list.py",
     "varRefreshCmd": "print(var_dic_list())"
    },
    "r": {
     "delete_cmd_postfix": ") ",
     "delete_cmd_prefix": "rm(",
     "library": "var_list.r",
     "varRefreshCmd": "cat(var_dic_list()) "
    }
   },
   "types_to_exclude": [
    "module",
    "function",
    "builtin_function_or_method",
    "instance",
    "_Feature"
   ],
   "window_display": false
  }
 },
 "nbformat": 4,
 "nbformat_minor": 2
}
